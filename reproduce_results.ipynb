{
 "cells": [
  {
   "cell_type": "markdown",
   "id": "260c5c42",
   "metadata": {},
   "source": [
    "# Import libraries"
   ]
  },
  {
   "cell_type": "code",
   "execution_count": 8,
   "id": "7b47657f",
   "metadata": {
    "ExecuteTime": {
     "end_time": "2022-10-20T10:51:14.384475Z",
     "start_time": "2022-10-20T10:51:14.372477Z"
    }
   },
   "outputs": [],
   "source": [
    "import numpy as np\n",
    "import torch\n",
    "import matplotlib.pyplot as plt\n",
    "from sklearn.cluster import KMeans\n",
    "from sklearn.metrics.cluster import adjusted_rand_score\n",
    "\n",
    "from data import parallel_line, orthogonal, triangle, lines_3D, real_data_loader, add_noise_data\n",
    "from models import Autoencoder\n",
    "from train import train_AE, train_TAE"
   ]
  },
  {
   "cell_type": "code",
   "execution_count": 2,
   "id": "fabbb318",
   "metadata": {
    "ExecuteTime": {
     "end_time": "2022-10-20T10:45:00.245192Z",
     "start_time": "2022-10-20T10:45:00.243254Z"
    }
   },
   "outputs": [],
   "source": [
    "device = 'cuda:0' if torch.cuda.is_available() else 'cpu'"
   ]
  },
  {
   "cell_type": "markdown",
   "id": "d7114d58",
   "metadata": {},
   "source": [
    "# Toy data "
   ]
  },
  {
   "cell_type": "markdown",
   "id": "a2813bd1",
   "metadata": {},
   "source": [
    "## Visualize\n",
    "use `parallel_line`, `orthogonal`, `triangle`, `lines_3D` for different toy datasets"
   ]
  },
  {
   "cell_type": "code",
   "execution_count": 3,
   "id": "cd2ee446",
   "metadata": {
    "ExecuteTime": {
     "end_time": "2022-10-20T09:47:43.747548Z",
     "start_time": "2022-10-20T09:47:43.618199Z"
    }
   },
   "outputs": [
    {
     "data": {
      "text/plain": [
       "Text(0.5, 1.0, 'true dataset')"
      ]
     },
     "execution_count": 3,
     "metadata": {},
     "output_type": "execute_result"
    },
    {
     "data": {
      "image/png": "[encoded data removed]",
      "text/plain": [
       "<Figure size 432x288 with 1 Axes>"
      ]
     },
     "metadata": {
      "needs_background": "light"
     },
     "output_type": "display_data"
    }
   ],
   "source": [
    "# change parallel_lines to orthogonal, triangle, lines_3D for other toy datasets\n",
    "X,Y, X_noise, n_clusters = parallel_line(noise=0)\n",
    "\n",
    "color= ['red' if l == 0 else 'blue' if l == 1 else 'green' for l in Y.cpu().detach().numpy()]\n",
    "plt.scatter(X[:,0],X[:,1], color = color)\n",
    "plt.title('true dataset')"
   ]
  },
  {
   "cell_type": "markdown",
   "id": "c1c11dd1",
   "metadata": {},
   "source": [
    "## Clustering\n",
    "Use linear Autoencoder since the underlying structures are linear.\n",
    "* Hyperparameters in the setting include <br>\n",
    "`cnn = False` -- set to True for mnist and fashion <br>\n",
    "`epochs = 200` -- change for testing <br>\n",
    "`lr` -- learning rate in `train_AE` and `train_TAE` <br>\n",
    "`reg` -- regularisation strength in `train_TAE`\n",
    "\n",
    "* Set `repetition` to number of times the experiment to be repeated\n",
    "\n",
    "**`kmeans_ari`, `ae_ari`, `tae_ari` are the lists of ari scores for the datasets ran for `repetition` number of times**"
   ]
  },
  {
   "cell_type": "code",
   "execution_count": 10,
   "id": "4315c532",
   "metadata": {
    "ExecuteTime": {
     "end_time": "2022-10-20T09:57:16.778048Z",
     "start_time": "2022-10-20T09:55:12.896332Z"
    }
   },
   "outputs": [
    {
     "name": "stdout",
     "output_type": "stream",
     "text": [
      "0\n",
      "torch.FloatTensor\n"
     ]
    },
    {
     "name": "stderr",
     "output_type": "stream",
     "text": [
      "<ipython-input-10-e98f35f9a3c7>:30: UserWarning: To copy construct from a tensor, it is recommended to use sourceTensor.clone().detach() or sourceTensor.clone().detach().requires_grad_(True), rather than torch.tensor(sourceTensor).\n",
      "  X = torch.tensor(X[x_idx], dtype=torch.float).to(device)\n",
      "<ipython-input-10-e98f35f9a3c7>:31: UserWarning: To copy construct from a tensor, it is recommended to use sourceTensor.clone().detach() or sourceTensor.clone().detach().requires_grad_(True), rather than torch.tensor(sourceTensor).\n",
      "  Y = torch.tensor(Y[x_idx])\n"
     ]
    },
    {
     "name": "stdout",
     "output_type": "stream",
     "text": [
      "epoch  49  loss  3.1431946883893884\n",
      "epoch  99  loss  3.1431942228375314\n",
      "epoch  149  loss  3.143194209491679\n",
      "epoch  199  loss  3.1431942051113584\n",
      "epoch  49  loss  1.3761858778695266\n",
      "epoch  99  loss  1.5071651403668027\n",
      "epoch  149  loss  1.1360333086208751\n",
      "epoch  199  loss  1.0844270652905106\n",
      "0\n",
      "torch.FloatTensor\n"
     ]
    },
    {
     "name": "stderr",
     "output_type": "stream",
     "text": [
      "<ipython-input-10-e98f35f9a3c7>:30: UserWarning: To copy construct from a tensor, it is recommended to use sourceTensor.clone().detach() or sourceTensor.clone().detach().requires_grad_(True), rather than torch.tensor(sourceTensor).\n",
      "  X = torch.tensor(X[x_idx], dtype=torch.float).to(device)\n",
      "<ipython-input-10-e98f35f9a3c7>:31: UserWarning: To copy construct from a tensor, it is recommended to use sourceTensor.clone().detach() or sourceTensor.clone().detach().requires_grad_(True), rather than torch.tensor(sourceTensor).\n",
      "  Y = torch.tensor(Y[x_idx])\n"
     ]
    },
    {
     "name": "stdout",
     "output_type": "stream",
     "text": [
      "epoch  49  loss  2.222626495755588\n",
      "epoch  99  loss  2.2226262881358463\n",
      "epoch  149  loss  2.222625902183354\n",
      "epoch  199  loss  2.222625919125664\n",
      "epoch  49  loss  1.2738250528182835\n",
      "epoch  99  loss  3.258650661620001\n",
      "epoch  149  loss  3.396592739497622\n",
      "epoch  199  loss  3.392653705275928\n",
      "0\n",
      "torch.FloatTensor\n"
     ]
    },
    {
     "name": "stderr",
     "output_type": "stream",
     "text": [
      "<ipython-input-10-e98f35f9a3c7>:30: UserWarning: To copy construct from a tensor, it is recommended to use sourceTensor.clone().detach() or sourceTensor.clone().detach().requires_grad_(True), rather than torch.tensor(sourceTensor).\n",
      "  X = torch.tensor(X[x_idx], dtype=torch.float).to(device)\n",
      "<ipython-input-10-e98f35f9a3c7>:31: UserWarning: To copy construct from a tensor, it is recommended to use sourceTensor.clone().detach() or sourceTensor.clone().detach().requires_grad_(True), rather than torch.tensor(sourceTensor).\n",
      "  Y = torch.tensor(Y[x_idx])\n"
     ]
    },
    {
     "name": "stdout",
     "output_type": "stream",
     "text": [
      "epoch  49  loss  4.5762676030428455\n",
      "epoch  99  loss  4.576270476675902\n",
      "epoch  149  loss  4.576270712933813\n",
      "epoch  199  loss  4.57627065571025\n",
      "epoch  49  loss  1.1626169138910094\n",
      "epoch  99  loss  1.1612366218449703\n",
      "epoch  149  loss  1.1612294193803487\n",
      "epoch  199  loss  1.1612293874561632\n",
      "0\n",
      "torch.FloatTensor\n"
     ]
    },
    {
     "name": "stderr",
     "output_type": "stream",
     "text": [
      "<ipython-input-10-e98f35f9a3c7>:30: UserWarning: To copy construct from a tensor, it is recommended to use sourceTensor.clone().detach() or sourceTensor.clone().detach().requires_grad_(True), rather than torch.tensor(sourceTensor).\n",
      "  X = torch.tensor(X[x_idx], dtype=torch.float).to(device)\n",
      "<ipython-input-10-e98f35f9a3c7>:31: UserWarning: To copy construct from a tensor, it is recommended to use sourceTensor.clone().detach() or sourceTensor.clone().detach().requires_grad_(True), rather than torch.tensor(sourceTensor).\n",
      "  Y = torch.tensor(Y[x_idx])\n"
     ]
    },
    {
     "name": "stdout",
     "output_type": "stream",
     "text": [
      "epoch  49  loss  0.7551702471706085\n",
      "epoch  99  loss  0.7551702762045898\n",
      "epoch  149  loss  0.7551702698747007\n",
      "epoch  199  loss  0.7551702737583158\n",
      "epoch  49  loss  0.38199814780498853\n",
      "epoch  99  loss  0.376921838002551\n",
      "epoch  149  loss  0.37691636228468267\n",
      "epoch  199  loss  0.37691529100198146\n"
     ]
    }
   ],
   "source": [
    "# kmeans_ari, ae_ari, tae_ari gives the ari of respective algorithms\n",
    "# hyperparameters: repetition, epochs, lr, reg,  \n",
    "repetition = 10\n",
    "epochs = 200\n",
    "\n",
    "np.random.seed(1)\n",
    "ae_ari = []\n",
    "tae_ari = []\n",
    "kmeans_ari = []\n",
    "ae_err = []\n",
    "tae_err = []\n",
    "\n",
    "for (data_generation, lr) in [(parallel_line(noise=0), 0.01), \n",
    "                              (orthogonal(noise=0), 0.01), \n",
    "                              (triangle(noise=0),0.1), \n",
    "                              (lines_3D(noise=0),0.1)]:\n",
    "    ae = []\n",
    "    tae = []\n",
    "    kmeans_ = []\n",
    "    ae_e = []\n",
    "    tae_e = []\n",
    "    for rep in range(repetition):\n",
    "        print(rep)\n",
    "\n",
    "        np.random.seed(rep)\n",
    "\n",
    "        X,Y,X_noise,n_clusters = data_generation\n",
    "        x_idx = torch.tensor(np.arange(X.shape[0]))\n",
    "        shuffle_idx = torch.randperm(x_idx.shape[0])\n",
    "        x_idx = x_idx[shuffle_idx].long()\n",
    "        X = torch.tensor(X[x_idx], dtype=torch.float).to(device)\n",
    "        Y = torch.tensor(Y[x_idx])\n",
    "        \n",
    "        # k means\n",
    "        k = KMeans(n_clusters=n_clusters, random_state=rep).fit(X.cpu().detach().numpy())\n",
    "        k_ari = adjusted_rand_score(k.labels_, Y)\n",
    "        kmeans_.append(k_ari)\n",
    "        \n",
    "        # Standard AE\n",
    "        net = Autoencoder(in_feature=X.shape[1],embed=1)\n",
    "        ae_l = train_AE(net, X,Y, lr=0.01,epochs=epochs)\n",
    "        ae_e.append(ae_l[-1])\n",
    "        \n",
    "        X_embed = net.enc1(X).cpu().detach().numpy()\n",
    "        kmeans = KMeans(n_clusters=n_clusters, random_state=0).fit(X_embed)\n",
    "        AE_clust_assign = kmeans.labels_\n",
    "        ari = adjusted_rand_score(AE_clust_assign, Y)\n",
    "        ae.append(ari)\n",
    "        \n",
    "        # Tensorized AE\n",
    "        _, tae_l, TAE_clust_assign, _, _, _ = train_TAE(X.clone(),Y.clone(), n_clusters=n_clusters, lr=lr, reg=0.1, embed=1, epochs=epochs )\n",
    "        tae_e.append(tae_l[-1])\n",
    "        ari = adjusted_rand_score(torch.argmax(TAE_clust_assign,axis=0).cpu().detach().numpy(), Y)\n",
    "        tae.append(ari)\n",
    "        \n",
    "    kmeans_ari.append(kmeans_)    \n",
    "    ae_ari.append(ae)\n",
    "    tae_ari.append(tae)\n",
    "    ae_err.append(ae_e)\n",
    "    tae_err.append(tae_e)\n",
    "    \n",
    "#consider only best 5 based on the loss\n",
    "kmeans_ari = np.sort(np.array(kmeans_ari))[::-1][:5]\n",
    "ae_idx = np.argsort(np.array(ae_err))[:5]\n",
    "ae_ari = ae_ari[ae_idx]\n",
    "tae_idx = np.argsort(np.array(tae_err))[:5]\n",
    "tae_ari = tae_ari[tae_idx]"
   ]
  },
  {
   "cell_type": "markdown",
   "id": "dd94169b",
   "metadata": {},
   "source": [
    "## Denoising\n",
    "\n",
    "* Hyperparameters: <br>\n",
    "`noise=0.1` -- noise level to add to the original data <br>\n",
    "`epochs = 100` -- number of epochs <br>\n",
    "`linear_ae = False` -- linear or relu Autoencoder <br>\n",
    "`lr` -- learning rate in `train_AE` and `train_TAE` <br>\n",
    "`reg` -- regularisation strength in `train_TAE`\n",
    "* Set the following parameters accordingly <br>\n",
    "`repetition= 5` -- number of times to repeat the experiment\n",
    "`n_clusters = 3` -- length of `class_labels_list` in the `real_data_loader` function\n",
    "\n",
    "**`ae_loss`, `tae_loss` are the lists of mse errors for the datasets ran for `repetition` number of times**"
   ]
  },
  {
   "cell_type": "code",
   "execution_count": 12,
   "id": "0c6f00f2",
   "metadata": {
    "ExecuteTime": {
     "end_time": "2022-10-20T10:01:22.332980Z",
     "start_time": "2022-10-20T10:00:19.817558Z"
    }
   },
   "outputs": [
    {
     "name": "stdout",
     "output_type": "stream",
     "text": [
      "0\n",
      "torch.DoubleTensor\n",
      "epoch  49  loss  2.0990931867746014\n",
      "epoch  99  loss  2.099091598922387\n",
      "epoch  49  loss  1.8175959696643986\n",
      "epoch  99  loss  1.8155231752386316\n",
      "0\n",
      "torch.DoubleTensor\n",
      "epoch  49  loss  11.080445218795212\n",
      "epoch  99  loss  11.080444827693281\n",
      "epoch  49  loss  1.0605634540847193\n",
      "epoch  99  loss  1.0591231883193055\n",
      "0\n",
      "torch.DoubleTensor\n",
      "epoch  49  loss  4.712811161171024\n",
      "epoch  99  loss  4.712913525899252\n",
      "epoch  49  loss  1.0260984161278854\n",
      "epoch  99  loss  1.444610231326272\n",
      "0\n",
      "torch.DoubleTensor\n",
      "epoch  49  loss  0.807942114927185\n",
      "epoch  99  loss  0.8079475769749842\n",
      "epoch  49  loss  0.43262947076233105\n",
      "epoch  99  loss  0.4770887397020124\n"
     ]
    }
   ],
   "source": [
    "# ae_loss and tae_loss has the mse of the data\n",
    "repetition = 5\n",
    "epochs = 100\n",
    "\n",
    "np.random.seed(1)\n",
    "ae_loss = []\n",
    "tae_loss = []\n",
    "for data_generation in [parallel_line(noise=0.1) , orthogonal(noise=0.1), triangle(noise=0.1), lines_3D(noise=0.1)]:\n",
    "    ae = []\n",
    "    tae = []\n",
    "    for rep in range(repetition):\n",
    "        print(rep)\n",
    "\n",
    "        np.random.seed(rep)\n",
    "\n",
    "        X,Y,X_noise,n_clusters = data_generation\n",
    "\n",
    "        # Standard AE\n",
    "        net = Autoencoder(in_feature=X.shape[1],embed=1)\n",
    "        ae_l = train_AE(net, X_noise,Y, lr=0.01,epochs=epochs,X_out=X)\n",
    "        ae.append(ae_l[-1])\n",
    "\n",
    "        # Tensorized AE\n",
    "        _, tae_l, _, _, _, _ = train_TAE(X_noise.clone(),Y.clone(), n_clusters=n_clusters, lr=0.1, reg=0.1, embed=1, epochs=epochs, X_out=X.clone() )\n",
    "        tae.append(tae_l[-1])\n",
    "    \n",
    "    ae_loss.append(ae)\n",
    "    tae_loss.append(tae)"
   ]
  },
  {
   "cell_type": "markdown",
   "id": "1f8659aa",
   "metadata": {},
   "source": [
    "# Real Data"
   ]
  },
  {
   "cell_type": "markdown",
   "id": "e7b0ff70",
   "metadata": {},
   "source": [
    "## Clustering\n",
    "* pass `real_data_loader` with the following arguments for different datasets: <br>\n",
    "penguin4:  `dataset='penguin4', class_labels_list=[0,1,2], normalise_data=True, subsample=False` <br>\n",
    "iris:     `dataset='iris', class_labels_list=[0,1,2], normalise_data=False, subsample=False` <br>\n",
    "mnist:    `dataset='mnist', class_labels_list=[0,1,2,3,4], num_samples=200, normalise_data=False, subsample=True` <br>\n",
    "fashion:  `dataset='fashion', class_labels_list=[0,1,2,3,4], num_samples=200, normalise_data=False, subsample=True` <br>\n",
    "    \n",
    "* Hyperparameters in the setting include <br>\n",
    "`cnn = False` -- set to True for mnist and fashion <br>\n",
    "`epochs = 200` -- change for testing <br>\n",
    "`linear = False` -- whether to use linear or relu Autoencoder <br>\n",
    "`lr` -- learning rate in `train_AE` and `train_TAE` <br>\n",
    "`reg` -- regularisation strength in `train_TAE`\n",
    "\n",
    "* Set `repetition` to number of times the experiment to be repeated\n",
    "\n",
    "**`kmeans_ari`, `ae_ari_1`, `ae_ari_2`, `tae_ari` are the lists of ari scores for the datasets ran for `repetition` number of times**"
   ]
  },
  {
   "cell_type": "code",
   "execution_count": 5,
   "id": "6c9f3b14",
   "metadata": {
    "ExecuteTime": {
     "end_time": "2022-10-20T10:49:30.645187Z",
     "start_time": "2022-10-20T10:48:14.393652Z"
    }
   },
   "outputs": [
    {
     "name": "stdout",
     "output_type": "stream",
     "text": [
      "torch.FloatTensor\n",
      "epoch  49  loss  0.010621612802326322\n",
      "epoch  99  loss  0.010621613241497895\n",
      "epoch  149  loss  0.010621613241497895\n",
      "epoch  199  loss  0.010621613241497895\n",
      "torch.FloatTensor\n",
      "epoch  49  loss  0.010633039277069226\n",
      "epoch  99  loss  0.010621629720888363\n",
      "epoch  149  loss  0.01062162497504698\n",
      "epoch  199  loss  0.010621613175970709\n",
      "epoch  49  loss  0.002193905857419888\n",
      "epoch  99  loss  0.0020580841383905832\n",
      "epoch  149  loss  0.0020067925777080297\n",
      "epoch  199  loss  0.0019824241809653256\n"
     ]
    }
   ],
   "source": [
    "repetition = 1\n",
    "cnn = False\n",
    "epochs = 200\n",
    "linear = False\n",
    "\n",
    "kmeans_ari = []\n",
    "ae_ari_1 = []\n",
    "ae_ari_2 = []\n",
    "tae_ari = []\n",
    "\n",
    "for r in range(repetition):\n",
    "\n",
    "    ##################################\n",
    "    # penguin 4 Features\n",
    "    ##################################\n",
    "\n",
    "    # load data\n",
    "\n",
    "    X,Y = real_data_loader(dataset='penguin4', class_labels_list=[0,1,2], normalise_data=True, subsample=False)\n",
    "    n_clusters = 3\n",
    "\n",
    "    # k-means Benchmark\n",
    "    k = KMeans(n_clusters=n_clusters, random_state=r).fit(X)\n",
    "    kmeans_ari.append(adjusted_rand_score(k.labels_, Y.cpu().detach().numpy()))\n",
    "    \n",
    "    # simple AE embedding 1 \n",
    "    net = Autoencoder(in_feature=X.shape[1],embed=1,linear=linear).to(device)\n",
    "    train_loss = train_AE(net, X.float(),Y.float(), lr=0.001,epochs=epochs, CNN=cnn)\n",
    "\n",
    "    X_embed = net.enc1(X.float().to(device)).cpu().detach().numpy()\n",
    "    kmeans = KMeans(n_clusters=n_clusters, random_state=0).fit(X_embed)\n",
    "\n",
    "    ae_ari_1.append(adjusted_rand_score(kmeans.labels_, Y.cpu().detach().numpy()))\n",
    "    \n",
    "    # simple AE embedding 3\n",
    "\n",
    "    net = Autoencoder(in_feature=X.shape[1],embed=3,linear=linear).to(device)\n",
    "    train_loss = train_AE(net, X.float(),Y.float(), lr=0.001,epochs=epochs, CNN=cnn)\n",
    "\n",
    "    X_embed = net.enc1(X.float().to(device)).cpu().detach().numpy()\n",
    "    kmeans = KMeans(n_clusters=n_clusters, random_state=0).fit(X_embed)\n",
    "\n",
    "    ae_ari_2.append(adjusted_rand_score(kmeans.labels_, Y.cpu().detach().numpy()))\n",
    "    \n",
    "    # TAE\n",
    "\n",
    "    _, train_loss, clust_assign, _, Y_t, _ = train_TAE(X.float().clone(),Y.float().clone(), n_clusters= n_clusters , lr=0.01, reg=0.1, embed=1, linear=linear, epochs=epochs ,number_of_batches=1)\n",
    "\n",
    "    tae_ari.append(adjusted_rand_score(torch.argmax(clust_assign,axis=0).cpu().detach().numpy(), Y_t.cpu().detach().numpy()))\n",
    "    "
   ]
  },
  {
   "cell_type": "code",
   "execution_count": 6,
   "id": "2fbc70b4",
   "metadata": {
    "ExecuteTime": {
     "end_time": "2022-10-20T10:49:30.648306Z",
     "start_time": "2022-10-20T10:49:30.646267Z"
    }
   },
   "outputs": [
    {
     "name": "stdout",
     "output_type": "stream",
     "text": [
      "[0.20959929307188535] [0.20959929307188535] [0.7523859980476766]\n"
     ]
    }
   ],
   "source": [
    "print(ae_ari_1,ae_ari_2,tae_ari)"
   ]
  },
  {
   "cell_type": "markdown",
   "id": "803d95ff",
   "metadata": {},
   "source": [
    "## Denoising\n",
    "* `real_data_loader` : use the above arguments for different datasets \n",
    "* Hyperparameters: <br>\n",
    "`noise=0.1` -- noise level to add to the original data <br>\n",
    "`epochs = 100` -- number of epochs <br>\n",
    "`linear_ae = False` -- linear or relu Autoencoder <br>\n",
    "`lr` -- learning rate in `train_AE` and `train_TAE` <br>\n",
    "`reg` -- regularisation strength in `train_TAE`\n",
    "* Set the following parameters accordingly <br>\n",
    "`repetition= 5` -- number of times to repeat the experiment\n",
    "`n_clusters = 3` -- length of `class_labels_list` in the `real_data_loader` function\n",
    "\n",
    "**`ae_mse`, `tae_mse` are the lists of mse errors for the datasets ran for `repetition` number of times**"
   ]
  },
  {
   "cell_type": "code",
   "execution_count": 9,
   "id": "69b1cab8",
   "metadata": {
    "ExecuteTime": {
     "end_time": "2022-10-20T10:53:52.211304Z",
     "start_time": "2022-10-20T10:51:18.306748Z"
    }
   },
   "outputs": [
    {
     "name": "stdout",
     "output_type": "stream",
     "text": [
      "torch.FloatTensor\n",
      "epoch  49  loss  0.013262092726288397\n",
      "epoch  99  loss  0.013262092904745417\n",
      "epoch  49  loss  0.0031330291646287684\n",
      "epoch  99  loss  0.002996175687285304\n",
      "torch.FloatTensor\n",
      "epoch  49  loss  0.01326209261440421\n",
      "epoch  99  loss  0.013262092730470984\n",
      "epoch  49  loss  0.003178254760243504\n",
      "epoch  99  loss  0.0030700940615950643\n",
      "torch.FloatTensor\n",
      "epoch  49  loss  0.013262092244593862\n",
      "epoch  99  loss  0.013262092904745417\n",
      "epoch  49  loss  0.003042863882807276\n",
      "epoch  99  loss  0.002956405478814527\n",
      "torch.FloatTensor\n",
      "epoch  49  loss  0.013262092932280778\n",
      "epoch  99  loss  0.013262093534573222\n",
      "epoch  49  loss  0.0029413066730015628\n",
      "epoch  99  loss  0.002453794809020665\n",
      "torch.FloatTensor\n",
      "epoch  49  loss  0.013262091879314649\n",
      "epoch  99  loss  0.013262093212165519\n",
      "epoch  49  loss  0.002704058888618915\n",
      "epoch  99  loss  0.002609810747251871\n",
      "[0.013262092904745417, 0.013262092730470984, 0.013262092904745417, 0.013262093534573222, 0.013262093212165519] [0.002996175687285304, 0.0030700940615950643, 0.002956405478814527, 0.002453794809020665, 0.002609810747251871]\n"
     ]
    }
   ],
   "source": [
    "#give different dataset name = ['penguin4', 'penguin2', 'iris', 'mnist', 'fashion']\n",
    "X,Y = real_data_loader(dataset='penguin4', class_labels_list=[0,1,2], normalise_data=True, subsample=False)\n",
    "X_noise = add_noise_data(X, noise=0.1)\n",
    "\n",
    "repetition = 5\n",
    "n_clusters = 3\n",
    "epochs = 100\n",
    "linear_ae = False\n",
    "\n",
    "ae_mse = []\n",
    "tae_mse = []\n",
    "\n",
    "for i in range(repetition):\n",
    "    # simple AE embedding 1 \n",
    "    net = Autoencoder(in_feature=X.shape[1],embed=1, linear=linear_ae).to(device)\n",
    "    train_loss = train_AE(net, X_noise.float(),Y.float(), lr=0.001,epochs=epochs, X_out=X)\n",
    "    ae_mse.append(train_loss[-1])\n",
    "\n",
    "    # TAE\n",
    "    _, train_loss, _, _, _, _ = train_TAE(X_noise.float().clone(),Y.float().clone(), n_clusters= n_clusters , lr=0.01, reg=0.1, embed=1, epochs=epochs, linear=linear_ae ,number_of_batches=1, X_out=X.clone())\n",
    "    tae_mse.append(train_loss[-1])\n",
    "print(ae_mse, tae_mse)"
   ]
  },
  {
   "cell_type": "code",
   "execution_count": null,
   "id": "e9e214fc",
   "metadata": {},
   "outputs": [],
   "source": []
  }
 ],
 "metadata": {
  "kernelspec": {
   "display_name": "Python 3",
   "language": "python",
   "name": "python3"
  },
  "language_info": {
   "codemirror_mode": {
    "name": "ipython",
    "version": 3
   },
   "file_extension": ".py",
   "mimetype": "text/x-python",
   "name": "python",
   "nbconvert_exporter": "python",
   "pygments_lexer": "ipython3",
   "version": "3.8.8"
  },
  "toc": {
   "base_numbering": 1,
   "nav_menu": {},
   "number_sections": true,
   "sideBar": true,
   "skip_h1_title": false,
   "title_cell": "Table of Contents",
   "title_sidebar": "Contents",
   "toc_cell": false,
   "toc_position": {
    "height": "calc(100% - 180px)",
    "left": "10px",
    "top": "150px",
    "width": "288px"
   },
   "toc_section_display": true,
   "toc_window_display": true
  }
 },
 "nbformat": 4,
 "nbformat_minor": 5
}
